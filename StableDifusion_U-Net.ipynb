{
 "cells": [
  {
   "cell_type": "code",
   "execution_count": 8,
   "metadata": {},
   "outputs": [],
   "source": [
    "import torch\n",
    "import torch.nn as nn\n",
    "from torch.utils.data import Dataset, DataLoader\n",
    "import torch.optim as optim\n",
    "import torch.optim.lr_scheduler as sched\n",
    "\n",
    "import torchvision\n",
    "from torchvision import transforms\n",
    "from torchvision.datasets import ImageFolder\n",
    "\n",
    "from matplotlib import pyplot as plt"
   ]
  },
  {
   "cell_type": "code",
   "execution_count": 9,
   "metadata": {},
   "outputs": [],
   "source": [
    "device = (\"cuda\" if torch.cuda.is_available() else \"cpu\")"
   ]
  },
  {
   "cell_type": "markdown",
   "metadata": {},
   "source": [
    "### Parameters"
   ]
  },
  {
   "cell_type": "code",
   "execution_count": 10,
   "metadata": {},
   "outputs": [],
   "source": [
    "batch_size = 1000\n",
    "epoch = 30\n"
   ]
  },
  {
   "cell_type": "code",
   "execution_count": 11,
   "metadata": {},
   "outputs": [
    {
     "data": {
      "text/plain": [
       "39209"
      ]
     },
     "execution_count": 11,
     "metadata": {},
     "output_type": "execute_result"
    }
   ],
   "source": [
    "full_DS = ImageFolder(root=\"trafic_32\", transform=transforms.ToTensor())\n",
    "full_loader = DataLoader(dataset=full_DS, pin_memory=True, num_workers=0, shuffle=True, batch_size=batch_size)\n",
    "\n",
    "len(full_DS)"
   ]
  },
  {
   "cell_type": "code",
   "execution_count": 12,
   "metadata": {},
   "outputs": [],
   "source": [
    "class Unet_Block(nn.Module):\n",
    "    \"\"\"\n",
    "    Base U-Net block\n",
    "    in_channels - number of input channels\n",
    "    out_channels - number of out channels\n",
    "    \"\"\"\n",
    "\n",
    "    def __init__(self, in_channels, out_channels):\n",
    "        super().__init__()\n",
    "\n",
    "        self.activation = nn.LeakyReLU(negative_slope=0.02)\n",
    "\n",
    "        self.layers = nn.ModuleList([\n",
    "            nn.Conv2d(in_channels=in_channels, out_channels=out_channels, kernel_size=3, padding=1, stride=(1,1)),\n",
    "            self.activation,\n",
    "            nn.Conv2d(in_channels=in_channels, out_channels=out_channels, kernel_size=3, padding=1, stride=(1,1)),\n",
    "            self.activation,\n",
    "            nn.Conv2d(in_channels=in_channels, out_channels=out_channels, kernel_size=3, padding=1, stride=(1,1)),\n",
    "            self.activation,\n",
    "            nn.BatchNorm2d(out_channels)\n",
    "        ])\n",
    "\n",
    "    def froward(self, x):\n",
    "\n",
    "        for layer in self.layers:\n",
    "            x = layer(x)\n",
    "\n",
    "        return x"
   ]
  },
  {
   "cell_type": "code",
   "execution_count": 13,
   "metadata": {},
   "outputs": [],
   "source": [
    "class Rescaler(nn.Module):\n",
    "    \"\"\"\n",
    "    Resacler either upscales given input or downscales (size x2 or /2 only)\n",
    "    \"\"\"\n",
    "\n",
    "    def __init__(self, in_channels, out_channels, upscale:bool):\n",
    "        super().__init__()\n",
    "\n",
    "        if upscale:\n",
    "            self.rescaler = nn.ConvTranspose2d(in_channels=in_channels, out_channels=out_channels, kernel_size=2, stride=(2,2))\n",
    "        else:\n",
    "            self.rescaler = nn.Conv2d(in_channels=in_channels, out_channels=out_channels, kernel_size=2, stride=(2,2))\n",
    "\n",
    "    def forward(self, x):\n",
    "        return self.rescaler(x)"
   ]
  },
  {
   "cell_type": "code",
   "execution_count": null,
   "metadata": {},
   "outputs": [],
   "source": [
    "class U_Net(nn.Module):\n",
    "\n",
    "    def __init__(self, in_channels):\n",
    "        super().__init__()\n",
    "\n",
    "\n",
    "        self.layers = nn.ModuleList([\n",
    "\n",
    "            Unet_Block(3, 32),\n",
    "            Rescaler(32, 32, upscale=False), # 16x16\n",
    "\n",
    "            Unet_Block(32, 64),\n",
    "            Rescaler(64, 64, upscale=False), #8x8\n",
    "\n",
    "            Unet_Block(64, 128),\n",
    "            Rescaler(128, 128, upscale=False), #4x4\n",
    "\n",
    "            Unet_Block(128, 192),\n",
    "            Rescaler(32, 32, upscale=False), # 2x2\n",
    "\n",
    "\n",
    "\n",
    "\n",
    "\n",
    "        ])"
   ]
  }
 ],
 "metadata": {
  "kernelspec": {
   "display_name": "Python 3",
   "language": "python",
   "name": "python3"
  },
  "language_info": {
   "codemirror_mode": {
    "name": "ipython",
    "version": 3
   },
   "file_extension": ".py",
   "mimetype": "text/x-python",
   "name": "python",
   "nbconvert_exporter": "python",
   "pygments_lexer": "ipython3",
   "version": "3.11.3"
  }
 },
 "nbformat": 4,
 "nbformat_minor": 2
}
