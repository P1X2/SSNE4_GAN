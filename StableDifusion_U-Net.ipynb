{
 "cells": [
  {
   "cell_type": "code",
   "execution_count": 77,
   "metadata": {},
   "outputs": [],
   "source": [
    "import torch\n",
    "import torch.nn as nn\n",
    "from torch.utils.data import Dataset, DataLoader\n",
    "import torch.optim as optim\n",
    "import torch.optim.lr_scheduler as sched\n",
    "\n",
    "import torchvision\n",
    "from torchvision import transforms\n",
    "from torchvision.datasets import ImageFolder\n",
    "\n",
    "from matplotlib import pyplot as plt"
   ]
  },
  {
   "cell_type": "code",
   "execution_count": 78,
   "metadata": {},
   "outputs": [],
   "source": [
    "device = (\"cuda\" if torch.cuda.is_available() else \"cpu\")"
   ]
  },
  {
   "cell_type": "markdown",
   "metadata": {},
   "source": [
    "### Parameters"
   ]
  },
  {
   "cell_type": "code",
   "execution_count": 79,
   "metadata": {},
   "outputs": [],
   "source": [
    "batch_size = 1000\n",
    "epoch = 30\n"
   ]
  },
  {
   "cell_type": "code",
   "execution_count": 80,
   "metadata": {},
   "outputs": [
    {
     "data": {
      "text/plain": [
       "39209"
      ]
     },
     "execution_count": 80,
     "metadata": {},
     "output_type": "execute_result"
    }
   ],
   "source": [
    "full_DS = ImageFolder(root=\"trafic_32\", transform=transforms.ToTensor())\n",
    "full_loader = DataLoader(dataset=full_DS, pin_memory=True, num_workers=0, shuffle=True, batch_size=batch_size)\n",
    "\n",
    "len(full_DS)"
   ]
  },
  {
   "cell_type": "code",
   "execution_count": 81,
   "metadata": {},
   "outputs": [],
   "source": [
    "class Unet_Block(nn.Module):\n",
    "    \"\"\"\n",
    "    Base U-Net block\n",
    "    in_channels - number of input channels\n",
    "    out_channels - number of out channels\n",
    "    \"\"\"\n",
    "\n",
    "    def __init__(self, in_channels, out_channels):\n",
    "        super().__init__()\n",
    "\n",
    "        self.activation = nn.SiLU()\n",
    "\n",
    "        self.layers = nn.ModuleList([\n",
    "            nn.Conv2d(in_channels=in_channels, out_channels=out_channels, kernel_size=3, padding=1, stride=(1,1)),\n",
    "            self.activation,\n",
    "            nn.Conv2d(in_channels=out_channels, out_channels=out_channels, kernel_size=3, padding=1, stride=(1,1)),\n",
    "            self.activation,\n",
    "            nn.BatchNorm2d(out_channels) # to moze na GN zmienic\n",
    "        ])\n",
    "\n",
    "    def forward(self, x):\n",
    "\n",
    "        for layer in self.layers:\n",
    "            x = layer(x)\n",
    "\n",
    "        return x"
   ]
  },
  {
   "cell_type": "code",
   "execution_count": 82,
   "metadata": {},
   "outputs": [],
   "source": [
    "class Rescaler(nn.Module):\n",
    "    \"\"\"\n",
    "    Resacler either upscales given input or downscales it (size x2 or /2 only)\n",
    "    \"\"\"\n",
    "\n",
    "    def __init__(self, in_channels, out_channels, upscale:bool):\n",
    "        super().__init__()\n",
    "\n",
    "        if upscale:\n",
    "            self.rescaler = nn.ConvTranspose2d(in_channels=in_channels, out_channels=out_channels, kernel_size=2, stride=(2,2))\n",
    "        else:\n",
    "            self.rescaler = nn.Conv2d(in_channels=in_channels, out_channels=out_channels, kernel_size=2, stride=(2,2))\n",
    "\n",
    "    def forward(self, x):\n",
    "        return self.rescaler(x)"
   ]
  },
  {
   "cell_type": "code",
   "execution_count": 143,
   "metadata": {},
   "outputs": [],
   "source": [
    "class U_Net(nn.Module):\n",
    "\n",
    "    def __init__(self, in_channels):\n",
    "        super().__init__()\n",
    "\n",
    "\n",
    "        self.encoder = nn.ModuleList([\n",
    "\n",
    "            Unet_Block(in_channels, 32),\n",
    "            Rescaler(32, 32, upscale=False), # 16x16\n",
    "\n",
    "            Unet_Block(32, 64),\n",
    "            Rescaler(64, 64, upscale=False), #8x8\n",
    "\n",
    "            Unet_Block(64, 128),\n",
    "            Rescaler(128, 128, upscale=False), #4x4\n",
    "\n",
    "            Unet_Block(128, 172),\n",
    "            Rescaler(172, 172, upscale=False), # 2x2\n",
    "        ])\n",
    "\n",
    "        self.latent = nn.Sequential(\n",
    "            nn.Conv2d(in_channels=172, out_channels=226, kernel_size=3, padding=1, stride=1),\n",
    "            nn.SiLU(),\n",
    "            nn.Conv2d(in_channels=226, out_channels=226, kernel_size=3, padding=1, stride=1),\n",
    "            nn.SiLU(),\n",
    "            nn.BatchNorm2d(226)\n",
    "        )\n",
    "\n",
    "        self.decoder = nn.ModuleList([\n",
    "\n",
    "            Rescaler(226, 226, upscale=True), # 4x4\n",
    "            Unet_Block(398, 172), # 226 + 172(res)\n",
    "\n",
    "            Rescaler(172, 172, upscale=True), #8x8\n",
    "            Unet_Block(300, 128), #(172 + 128)\n",
    "\n",
    "            Rescaler(128, 128, upscale=True), #16x16\n",
    "            Unet_Block(192, 64), #(128 + 64)\n",
    "\n",
    "            Rescaler(64, 64, upscale=True), # 32x32\n",
    "            Unet_Block(96, 32), #(64 + 32)\n",
    "\n",
    "            nn.Conv2d(in_channels=32, out_channels=in_channels, kernel_size=1, stride=1, padding=0)\n",
    "\n",
    "        ])\n",
    "\n",
    "    def forward(self, x):\n",
    "        residual = []\n",
    "\n",
    "        # encoder\n",
    "        for idx, layer in enumerate(self.encoder):\n",
    "            x = layer(x)\n",
    "\n",
    "            if(idx%2 == 0):\n",
    "                residual.append(x)\n",
    "        residual.reverse()\n",
    "\n",
    "\n",
    "        for xpp in residual:\n",
    "            print(xpp.shape)\n",
    "\n",
    "\n",
    "        # latent\n",
    "        x = self.latent(x)\n",
    "\n",
    "        # decoder\n",
    "        for idx, layer in enumerate(self.decoder):\n",
    "            x = layer(x)\n",
    "            print(idx)\n",
    "\n",
    "            if(idx%2 == 0 and idx <= 6): # idx<=6, bo na idx=8 jest convm, ktory nie dostaje rezyduala\n",
    "                x = torch.cat([x, residual[int(idx/2)]], dim=1) # (B, CH, H, W) - dim=1\n",
    "                print('guci')\n",
    "\n",
    "        return x\n",
    "\n",
    "\n"
   ]
  },
  {
   "cell_type": "code",
   "execution_count": 144,
   "metadata": {},
   "outputs": [],
   "source": [
    "model = U_Net(3)"
   ]
  },
  {
   "cell_type": "code",
   "execution_count": 138,
   "metadata": {},
   "outputs": [
    {
     "data": {
      "text/plain": [
       "3733145"
      ]
     },
     "execution_count": 138,
     "metadata": {},
     "output_type": "execute_result"
    }
   ],
   "source": [
    "params_sum = 0\n",
    "for params in model.parameters():\n",
    "    params_sum+=params.view(-1).size(0)\n",
    "params_sum"
   ]
  },
  {
   "cell_type": "code",
   "execution_count": 145,
   "metadata": {},
   "outputs": [
    {
     "name": "stdout",
     "output_type": "stream",
     "text": [
      "torch.Size([1, 172, 4, 4])\n",
      "torch.Size([1, 128, 8, 8])\n",
      "torch.Size([1, 64, 16, 16])\n",
      "torch.Size([1, 32, 32, 32])\n",
      "0\n",
      "guci\n",
      "1\n",
      "2\n",
      "guci\n",
      "3\n",
      "4\n",
      "guci\n",
      "5\n",
      "6\n",
      "guci\n",
      "7\n",
      "8\n"
     ]
    },
    {
     "ename": "IndexError",
     "evalue": "list index out of range",
     "output_type": "error",
     "traceback": [
      "\u001b[1;31m---------------------------------------------------------------------------\u001b[0m",
      "\u001b[1;31mIndexError\u001b[0m                                Traceback (most recent call last)",
      "Cell \u001b[1;32mIn[145], line 2\u001b[0m\n\u001b[0;32m      1\u001b[0m ex \u001b[38;5;241m=\u001b[39m torch\u001b[38;5;241m.\u001b[39mrand(size\u001b[38;5;241m=\u001b[39m[\u001b[38;5;241m1\u001b[39m, \u001b[38;5;241m3\u001b[39m, \u001b[38;5;241m32\u001b[39m, \u001b[38;5;241m32\u001b[39m])\n\u001b[1;32m----> 2\u001b[0m \u001b[43mmodel\u001b[49m\u001b[43m(\u001b[49m\u001b[43mex\u001b[49m\u001b[43m)\u001b[49m\n",
      "File \u001b[1;32mc:\\Python311\\Lib\\site-packages\\torch\\nn\\modules\\module.py:1518\u001b[0m, in \u001b[0;36mModule._wrapped_call_impl\u001b[1;34m(self, *args, **kwargs)\u001b[0m\n\u001b[0;32m   1516\u001b[0m     \u001b[38;5;28;01mreturn\u001b[39;00m \u001b[38;5;28mself\u001b[39m\u001b[38;5;241m.\u001b[39m_compiled_call_impl(\u001b[38;5;241m*\u001b[39margs, \u001b[38;5;241m*\u001b[39m\u001b[38;5;241m*\u001b[39mkwargs)  \u001b[38;5;66;03m# type: ignore[misc]\u001b[39;00m\n\u001b[0;32m   1517\u001b[0m \u001b[38;5;28;01melse\u001b[39;00m:\n\u001b[1;32m-> 1518\u001b[0m     \u001b[38;5;28;01mreturn\u001b[39;00m \u001b[38;5;28;43mself\u001b[39;49m\u001b[38;5;241;43m.\u001b[39;49m\u001b[43m_call_impl\u001b[49m\u001b[43m(\u001b[49m\u001b[38;5;241;43m*\u001b[39;49m\u001b[43margs\u001b[49m\u001b[43m,\u001b[49m\u001b[43m \u001b[49m\u001b[38;5;241;43m*\u001b[39;49m\u001b[38;5;241;43m*\u001b[39;49m\u001b[43mkwargs\u001b[49m\u001b[43m)\u001b[49m\n",
      "File \u001b[1;32mc:\\Python311\\Lib\\site-packages\\torch\\nn\\modules\\module.py:1527\u001b[0m, in \u001b[0;36mModule._call_impl\u001b[1;34m(self, *args, **kwargs)\u001b[0m\n\u001b[0;32m   1522\u001b[0m \u001b[38;5;66;03m# If we don't have any hooks, we want to skip the rest of the logic in\u001b[39;00m\n\u001b[0;32m   1523\u001b[0m \u001b[38;5;66;03m# this function, and just call forward.\u001b[39;00m\n\u001b[0;32m   1524\u001b[0m \u001b[38;5;28;01mif\u001b[39;00m \u001b[38;5;129;01mnot\u001b[39;00m (\u001b[38;5;28mself\u001b[39m\u001b[38;5;241m.\u001b[39m_backward_hooks \u001b[38;5;129;01mor\u001b[39;00m \u001b[38;5;28mself\u001b[39m\u001b[38;5;241m.\u001b[39m_backward_pre_hooks \u001b[38;5;129;01mor\u001b[39;00m \u001b[38;5;28mself\u001b[39m\u001b[38;5;241m.\u001b[39m_forward_hooks \u001b[38;5;129;01mor\u001b[39;00m \u001b[38;5;28mself\u001b[39m\u001b[38;5;241m.\u001b[39m_forward_pre_hooks\n\u001b[0;32m   1525\u001b[0m         \u001b[38;5;129;01mor\u001b[39;00m _global_backward_pre_hooks \u001b[38;5;129;01mor\u001b[39;00m _global_backward_hooks\n\u001b[0;32m   1526\u001b[0m         \u001b[38;5;129;01mor\u001b[39;00m _global_forward_hooks \u001b[38;5;129;01mor\u001b[39;00m _global_forward_pre_hooks):\n\u001b[1;32m-> 1527\u001b[0m     \u001b[38;5;28;01mreturn\u001b[39;00m \u001b[43mforward_call\u001b[49m\u001b[43m(\u001b[49m\u001b[38;5;241;43m*\u001b[39;49m\u001b[43margs\u001b[49m\u001b[43m,\u001b[49m\u001b[43m \u001b[49m\u001b[38;5;241;43m*\u001b[39;49m\u001b[38;5;241;43m*\u001b[39;49m\u001b[43mkwargs\u001b[49m\u001b[43m)\u001b[49m\n\u001b[0;32m   1529\u001b[0m \u001b[38;5;28;01mtry\u001b[39;00m:\n\u001b[0;32m   1530\u001b[0m     result \u001b[38;5;241m=\u001b[39m \u001b[38;5;28;01mNone\u001b[39;00m\n",
      "Cell \u001b[1;32mIn[143], line 73\u001b[0m, in \u001b[0;36mU_Net.forward\u001b[1;34m(self, x)\u001b[0m\n\u001b[0;32m     70\u001b[0m     \u001b[38;5;28mprint\u001b[39m(idx)\n\u001b[0;32m     72\u001b[0m     \u001b[38;5;28;01mif\u001b[39;00m(idx\u001b[38;5;241m%\u001b[39m\u001b[38;5;241m2\u001b[39m \u001b[38;5;241m==\u001b[39m \u001b[38;5;241m0\u001b[39m):\n\u001b[1;32m---> 73\u001b[0m         x \u001b[38;5;241m=\u001b[39m torch\u001b[38;5;241m.\u001b[39mcat([x, \u001b[43mresidual\u001b[49m\u001b[43m[\u001b[49m\u001b[38;5;28;43mint\u001b[39;49m\u001b[43m(\u001b[49m\u001b[43midx\u001b[49m\u001b[38;5;241;43m/\u001b[39;49m\u001b[38;5;241;43m2\u001b[39;49m\u001b[43m)\u001b[49m\u001b[43m]\u001b[49m], dim\u001b[38;5;241m=\u001b[39m\u001b[38;5;241m1\u001b[39m) \u001b[38;5;66;03m# (B, CH, H, W) - dim=1\u001b[39;00m\n\u001b[0;32m     74\u001b[0m         \u001b[38;5;28mprint\u001b[39m(\u001b[38;5;124m'\u001b[39m\u001b[38;5;124mguci\u001b[39m\u001b[38;5;124m'\u001b[39m)\n\u001b[0;32m     76\u001b[0m \u001b[38;5;28;01mreturn\u001b[39;00m x\n",
      "\u001b[1;31mIndexError\u001b[0m: list index out of range"
     ]
    }
   ],
   "source": [
    "ex = torch.rand(size=[1, 3, 32, 32])\n",
    "model(ex)"
   ]
  }
 ],
 "metadata": {
  "kernelspec": {
   "display_name": "Python 3",
   "language": "python",
   "name": "python3"
  },
  "language_info": {
   "codemirror_mode": {
    "name": "ipython",
    "version": 3
   },
   "file_extension": ".py",
   "mimetype": "text/x-python",
   "name": "python",
   "nbconvert_exporter": "python",
   "pygments_lexer": "ipython3",
   "version": "3.11.3"
  }
 },
 "nbformat": 4,
 "nbformat_minor": 2
}
